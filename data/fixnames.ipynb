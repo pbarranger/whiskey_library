{
 "cells": [
  {
   "cell_type": "code",
   "execution_count": 1,
   "metadata": {},
   "outputs": [],
   "source": [
    "import os"
   ]
  },
  {
   "cell_type": "code",
   "execution_count": 2,
   "metadata": {},
   "outputs": [
    {
     "data": {
      "text/plain": [
       "['.ipynb_checkpoints',\n",
       " 'Reddit Whisky Network Review Archive Best by User.csv',\n",
       " 'Reddit Whisky Network Review Archive Review Archive.csv',\n",
       " 'Reddit Whisky Network Review Stats Form most ratings.csv',\n",
       " 'Reddit Whisky Network Review Archive Most Rated Whiskies.csv',\n",
       " 'Reddit Whisky Network Review Stats Form bestuser.csv',\n",
       " 'Reddit Whisky Network Review Stats Form ratingsuser.csv',\n",
       " 'Reddit Whisky Network Review Archive Intermediary 2.csv',\n",
       " 'fixnames.ipynb',\n",
       " 'Reddit Whisky Network Review Stats Form Responses 1.csv',\n",
       " 'Reddit Whisky Network Review Archive Best Rated.csv',\n",
       " 'Reddit Whisky Network Review Stats Form best rated.csv',\n",
       " 'Reddit Whisky Network Review Stats Form ratingwiskey.csv']"
      ]
     },
     "execution_count": 2,
     "metadata": {},
     "output_type": "execute_result"
    }
   ],
   "source": [
    "os.listdir()"
   ]
  },
  {
   "cell_type": "code",
   "execution_count": 5,
   "metadata": {},
   "outputs": [],
   "source": [
    "for fn in os.listdir():\n",
    "    if fn.endswith(\".csv\"):\n",
    "        #print(fn)\n",
    "        newfn = fn.replace(\" \", \"_\")\n",
    "        #print(newfn)\n",
    "        os.rename(fn, newfn)"
   ]
  }
 ],
 "metadata": {
  "kernelspec": {
   "display_name": "Python [conda env:py36_w210]",
   "language": "python",
   "name": "conda-env-py36_w210-py"
  },
  "language_info": {
   "codemirror_mode": {
    "name": "ipython",
    "version": 3
   },
   "file_extension": ".py",
   "mimetype": "text/x-python",
   "name": "python",
   "nbconvert_exporter": "python",
   "pygments_lexer": "ipython3",
   "version": "3.6.5"
  }
 },
 "nbformat": 4,
 "nbformat_minor": 2
}
